{
 "cells": [
  {
   "cell_type": "code",
   "execution_count": 1,
   "id": "willing-manitoba",
   "metadata": {},
   "outputs": [],
   "source": [
    "import tensorflow as tf\n",
    "from tensorflow import keras\n",
    "import matplotlib.pyplot as plt\n",
    "import numpy  as np\n",
    "from keras.models import Sequential\n",
    "from keras.layers import Activation,Dense,Flatten"
   ]
  },
  {
   "cell_type": "code",
   "execution_count": 2,
   "id": "wound-nightmare",
   "metadata": {},
   "outputs": [],
   "source": [
    "(x_train,y_train),(x_test,y_test) = keras.datasets.mnist.load_data()\n",
    "x_train=x_train/255  #standardize the data\n",
    "x_test=x_test/255  #standardize the data"
   ]
  },
  {
   "cell_type": "code",
   "execution_count": 3,
   "id": "solid-praise",
   "metadata": {},
   "outputs": [
    {
     "name": "stdout",
     "output_type": "stream",
     "text": [
      "Epoch 1/10\n",
      "4020/4020 [==============================] - 31s 7ms/step - loss: 0.4364 - accuracy: 0.8727 - val_loss: 0.1858 - val_accuracy: 0.9432\n",
      "Epoch 2/10\n",
      "4020/4020 [==============================] - 27s 7ms/step - loss: 0.1346 - accuracy: 0.9605 - val_loss: 0.1300 - val_accuracy: 0.9623\n",
      "Epoch 3/10\n",
      "4020/4020 [==============================] - 21s 5ms/step - loss: 0.0832 - accuracy: 0.9741 - val_loss: 0.1286 - val_accuracy: 0.9615\n",
      "Epoch 4/10\n",
      "4020/4020 [==============================] - 21s 5ms/step - loss: 0.0574 - accuracy: 0.9823 - val_loss: 0.1053 - val_accuracy: 0.9695\n",
      "Epoch 5/10\n",
      "4020/4020 [==============================] - 26s 7ms/step - loss: 0.0393 - accuracy: 0.9880 - val_loss: 0.1000 - val_accuracy: 0.9725\n",
      "Epoch 6/10\n",
      "4020/4020 [==============================] - 33s 8ms/step - loss: 0.0312 - accuracy: 0.9907 - val_loss: 0.1092 - val_accuracy: 0.9717\n",
      "Epoch 7/10\n",
      "4020/4020 [==============================] - 27s 7ms/step - loss: 0.0269 - accuracy: 0.9913 - val_loss: 0.1180 - val_accuracy: 0.9705\n",
      "Epoch 8/10\n",
      "4020/4020 [==============================] - 28s 7ms/step - loss: 0.0218 - accuracy: 0.9933 - val_loss: 0.1163 - val_accuracy: 0.9711\n",
      "Epoch 9/10\n",
      "4020/4020 [==============================] - 31s 8ms/step - loss: 0.0176 - accuracy: 0.9943 - val_loss: 0.1294 - val_accuracy: 0.9686\n",
      "Epoch 10/10\n",
      "4020/4020 [==============================] - 22s 5ms/step - loss: 0.0156 - accuracy: 0.9946 - val_loss: 0.1170 - val_accuracy: 0.9725\n"
     ]
    }
   ],
   "source": [
    "# 2 layered ANN \n",
    "model= Sequential([\n",
    "    Flatten(input_shape=(28,28)),\n",
    "    Dense(100,activation='relu'),\n",
    "    Dense(10,activation='sigmoid')\n",
    "    \n",
    "])\n",
    "model.compile(optimizer='Adam',\n",
    "             loss='sparse_categorical_crossentropy',\n",
    "             metrics=['accuracy'])\n",
    "model.fit(x_train,y_train,epochs=10,validation_split=0.33,batch_size=10)"
   ]
  },
  {
   "cell_type": "code",
   "execution_count": 4,
   "id": "composed-amsterdam",
   "metadata": {},
   "outputs": [
    {
     "name": "stdout",
     "output_type": "stream",
     "text": [
      "313/313 [==============================] - 1s 4ms/step - loss: 0.1104 - accuracy: 0.9735\n"
     ]
    },
    {
     "data": {
      "text/plain": [
       "[0.11041045188903809, 0.9735000133514404]"
      ]
     },
     "execution_count": 4,
     "metadata": {},
     "output_type": "execute_result"
    }
   ],
   "source": [
    "model.evaluate(x_test,y_test)"
   ]
  },
  {
   "cell_type": "code",
   "execution_count": 5,
   "id": "integrated-method",
   "metadata": {},
   "outputs": [
    {
     "data": {
      "text/plain": [
       "<matplotlib.image.AxesImage at 0x1e613cd1048>"
      ]
     },
     "execution_count": 5,
     "metadata": {},
     "output_type": "execute_result"
    },
    {
     "data": {
      "image/png": "[encoded data removed]",
      "text/plain": [
       "<Figure size 288x288 with 1 Axes>"
      ]
     },
     "metadata": {
      "needs_background": "light"
     },
     "output_type": "display_data"
    }
   ],
   "source": [
    "plt.matshow(x_test[123])"
   ]
  },
  {
   "cell_type": "code",
   "execution_count": 6,
   "id": "stone-marijuana",
   "metadata": {},
   "outputs": [
    {
     "data": {
      "text/plain": [
       "array([8.9348458e-07, 1.2797554e-03, 3.0117917e-05, 4.9797927e-06,\n",
       "       2.1536689e-04, 4.4210532e-04, 1.0000000e+00, 2.2826409e-05,\n",
       "       3.8448119e-04, 1.5311575e-03], dtype=float32)"
      ]
     },
     "execution_count": 6,
     "metadata": {},
     "output_type": "execute_result"
    }
   ],
   "source": [
    "predicted=model.predict(x_test)\n",
    "predicted[123]"
   ]
  },
  {
   "cell_type": "code",
   "execution_count": 7,
   "id": "distinct-product",
   "metadata": {},
   "outputs": [
    {
     "data": {
      "text/plain": [
       "6"
      ]
     },
     "execution_count": 7,
     "metadata": {},
     "output_type": "execute_result"
    }
   ],
   "source": [
    "np.argmax(predicted[123])"
   ]
  },
  {
   "cell_type": "code",
   "execution_count": 10,
   "id": "fancy-combat",
   "metadata": {},
   "outputs": [
    {
     "data": {
      "text/plain": [
       "<matplotlib.image.AxesImage at 0x1e6174ea240>"
      ]
     },
     "execution_count": 10,
     "metadata": {},
     "output_type": "execute_result"
    },
    {
     "data": {
      "image/png": "[encoded data removed]",
      "text/plain": [
       "<Figure size 288x288 with 1 Axes>"
      ]
     },
     "metadata": {
      "needs_background": "light"
     },
     "output_type": "display_data"
    }
   ],
   "source": [
    "plt.matshow(x_test[1134])"
   ]
  },
  {
   "cell_type": "code",
   "execution_count": 12,
   "id": "tired-contributor",
   "metadata": {},
   "outputs": [
    {
     "data": {
      "text/plain": [
       "array([6.5546722e-08, 1.0171443e-02, 6.9649508e-09, 1.0000000e+00,\n",
       "       9.1857318e-15, 6.5247262e-01, 1.5853763e-10, 1.4564305e-10,\n",
       "       2.0331938e-03, 1.6182098e-04], dtype=float32)"
      ]
     },
     "execution_count": 12,
     "metadata": {},
     "output_type": "execute_result"
    }
   ],
   "source": [
    "predicted=model.predict(x_test)\n",
    "predicted[1134]"
   ]
  },
  {
   "cell_type": "code",
   "execution_count": 13,
   "id": "looking-gross",
   "metadata": {},
   "outputs": [
    {
     "data": {
      "text/plain": [
       "3"
      ]
     },
     "execution_count": 13,
     "metadata": {},
     "output_type": "execute_result"
    }
   ],
   "source": [
    "np.argmax(predicted[1134])"
   ]
  },
  {
   "cell_type": "code",
   "execution_count": null,
   "id": "productive-morgan",
   "metadata": {},
   "outputs": [],
   "source": []
  }
 ],
 "metadata": {
  "kernelspec": {
   "display_name": "Python 3",
   "language": "python",
   "name": "python3"
  },
  "language_info": {
   "codemirror_mode": {
    "name": "ipython",
    "version": 3
   },
   "file_extension": ".py",
   "mimetype": "text/x-python",
   "name": "python",
   "nbconvert_exporter": "python",
   "pygments_lexer": "ipython3",
   "version": "3.7.0"
  }
 },
 "nbformat": 4,
 "nbformat_minor": 5
}
